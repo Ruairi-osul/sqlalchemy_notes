{
 "nbformat": 4,
 "nbformat_minor": 2,
 "metadata": {
  "language_info": {
   "name": "python",
   "codemirror_mode": {
    "name": "ipython",
    "version": 3
   }
  },
  "orig_nbformat": 2,
  "file_extension": ".py",
  "mimetype": "text/x-python",
  "name": "python",
  "npconvert_exporter": "python",
  "pygments_lexer": "ipython3",
  "version": 3
 },
 "cells": [
  {
   "cell_type": "code",
   "execution_count": 1,
   "metadata": {},
   "outputs": [],
   "source": [
    "from sqlalchemy import create_engine, Column, Integer, String, Numeric, DateTime, Boolean, ForeignKey\n",
    "from sqlalchemy.ext.declarative import declarative_base\n",
    "from sqlalchemy.orm import relationship, backref\n",
    "from datetime import datetime\n",
    "from sqlalchemy.orm import sessionmaker"
   ]
  },
  {
   "cell_type": "code",
   "execution_count": 2,
   "metadata": {},
   "outputs": [],
   "source": [
    "Base = declarative_base()\n",
    "\n",
    "class Cookie(Base):\n",
    "    __tablename__ = \"cookies\"\n",
    "\n",
    "    cookie_id = Column(Integer(), primary_key=True)\n",
    "    cookie_name = Column(String(50), index=True)\n",
    "    cookie_receipe_url = Column(String(255))\n",
    "    cookie_sku = Column(String(55))\n",
    "    quantity = Column(Integer())\n",
    "    unit_cost = Column(Numeric(12, 2))\n",
    "\n",
    "    def __repr__(self):\n",
    "        return f\"<Cookie: {self.cookie_name}>\"\n",
    "\n",
    "\n",
    "class User(Base):\n",
    "    __tablename__ = \"users\"\n",
    "\n",
    "    user_id = Column(Integer(), primary_key=True)\n",
    "    username = Column(String(15), nullable=False, unique=True)\n",
    "    email_address = Column(String(255), nullable=False)\n",
    "    phone = Column(String(20), nullable=False)\n",
    "    password = Column(String(50), nullable=False)\n",
    "    created_on = Column(DateTime(), default=datetime.now)\n",
    "    updated_on = Column(DateTime(), default=datetime.now, onupdate=datetime.now)\n",
    "\n",
    "    def __repr__(self):\n",
    "        return f\"<User: {self.username}>\"\n",
    "\n",
    "\n",
    "class Order(Base):\n",
    "    __tablename__ = \"orders\"\n",
    "\n",
    "    order_id = Column(Integer(), primary_key=True)\n",
    "    user_id = Column(Integer, ForeignKey(\"users.user_id\"))\n",
    "    shipped = Column(Boolean, default=False)\n",
    "\n",
    "    user = relationship(\"User\", backref=backref(\"orders\", order_by=order_id))\n",
    "\n",
    "    def __repr__(self):\n",
    "        return f\"<Order: {self.order_id}>\" \n",
    "\n",
    "class LineItem(Base):\n",
    "    __tablename__ = \"line_items\"\n",
    "\n",
    "    line_item_id = Column(Integer(), primary_key=True)\n",
    "    order_id = Column(Integer(), ForeignKey(\"orders.order_id\"))\n",
    "    cookie_id = Column(Integer(), ForeignKey(\"cookies.cookie_id\"))\n",
    "    quantity = Column(Integer())\n",
    "    extended_cost = Column(Numeric(12, 2))\n",
    "\n",
    "    cookie = relationship(\"Cookie\", uselist=False, backref=backref(\"line_items\"), order_by=line_item_id)\n",
    "    order = relationship(\"Order\", backref=backref(\"line_items\"), order_by=line_item_id)\n",
    "\n",
    "    def __repr__(self):\n",
    "        return f\"<LineItem: {self.line_item_id}>\"\n",
    "\n",
    "\n",
    "engine = create_engine(\"sqlite:///:memory:\")\n",
    "Base.metadata.create_all(engine)"
   ]
  },
  {
   "cell_type": "code",
   "execution_count": 3,
   "metadata": {},
   "outputs": [],
   "source": [
    "# create a session - it acts like a transaction\n",
    "\n",
    "Session = sessionmaker(bind=engine)\n",
    "session = Session()\n"
   ]
  },
  {
   "cell_type": "code",
   "execution_count": 4,
   "metadata": {},
   "outputs": [],
   "source": [
    "# inserting data\n",
    "\n",
    "chocolate_chip = Cookie(cookie_name=\"chocolate chip\",\n",
    "                        cookie_receipe_url=\"htts://somewebsite.com\",\n",
    "                        cookie_sku=\"CC01\",\n",
    "                        quantity=12,\n",
    "                        unit_cost=0.5)\n",
    "\n",
    "session.add(chocolate_chip)\n",
    "session.commit()\n",
    "# print(chocolate_chip.cookie_id) # primary key is updated on inserted objects\n",
    "\n",
    "d_chocolate_chip = Cookie(\n",
    "                            cookie_name=\"dark chocolate chip\",\n",
    "                            cookie_receipe_url=\"htts://somewebsite.com/2\",\n",
    "                            cookie_sku=\"CC02\",\n",
    "                            quantity=16,\n",
    "                            unit_cost=0.8\n",
    ")\n",
    "\n",
    "molasis = Cookie(\n",
    "                            cookie_name=\"molasis\",\n",
    "                            cookie_receipe_url=\"htts://somewebsite.com/3\",\n",
    "                            cookie_sku=\"CC03\",\n",
    "                            quantity=5,\n",
    "                            unit_cost=0.4\n",
    ")\n",
    "\n",
    "session.add(d_chocolate_chip)\n",
    "session.add(molasis)\n",
    "session.flush()  # send data to db BUT DO NOT COMMIT TRANSACTION!! i.e. must be commited later\n",
    "# print(molasis.cookie_id)  # even though the transaction has not been commited, the objects are updated with primary keys\n",
    "\n",
    "\n",
    "peanut_butter = Cookie(\n",
    "                            cookie_name=\"peanut butter\",\n",
    "                            cookie_receipe_url=\"htts://somewebsite.com/4\",\n",
    "                            cookie_sku=\"CC04\",\n",
    "                            quantity=3,\n",
    "                            unit_cost=0.9\n",
    ")\n",
    "\n",
    "oatmeal_raisin = Cookie(\n",
    "                            cookie_name=\"oatmeal raisin\",\n",
    "                            cookie_receipe_url=\"htts://somewebsite.com/5\",\n",
    "                            cookie_sku=\"CC05\",\n",
    "                            quantity=15,\n",
    "                            unit_cost=0.35\n",
    ")\n",
    "session.bulk_save_objects([peanut_butter, oatmeal_raisin])\n",
    "session.commit()\n",
    "# print(oatmeal_raisin.cookie_id)  # ids not returned but is faster\n",
    "\n",
    "\n"
   ]
  },
  {
   "cell_type": "code",
   "execution_count": 5,
   "metadata": {},
   "outputs": [
    {
     "name": "stderr",
     "output_type": "stream",
     "text": "/home/rory/repos/sql_book/venv/lib/python3.7/site-packages/sqlalchemy/sql/sqltypes.py:666: SAWarning: Dialect sqlite+pysqlite does *not* support Decimal objects natively, and SQLAlchemy must convert from floating point - rounding errors and other issues may occur. Please consider storing Decimal numbers as strings or integers on this platform for lossless storage.\n  \"storage.\" % (dialect.name, dialect.driver)\n"
    }
   ],
   "source": [
    "# Querying data\n",
    "\n",
    "all_cookies = session.query(Cookie).all()  # all records\n",
    "\n",
    "# print(all_cookies)  # list of cookie objects\n",
    "# [cookie for cookie in session.query(Cookie)]  # query can be used as iterable\n",
    "\n",
    "\n",
    "cookie_names = session.query(Cookie.cookie_name)  # specific column\n",
    "\n",
    "# print([name for name in cookie_names]) # returns iterable of tuples\n",
    "# print([name.cookie_name for name in cookie_names])  # accesses the string we are looking for\n",
    "\n",
    "\n",
    "res = session.query(Cookie.cookie_name, Cookie.quantity)  # multiple columns\n",
    "\n",
    "# print([row for row in res])\n",
    "\n",
    "\n"
   ]
  },
  {
   "cell_type": "code",
   "execution_count": 6,
   "metadata": {},
   "outputs": [],
   "source": [
    "# Ordering\n",
    "from sqlalchemy.sql import desc\n",
    "\n",
    "by_quantity = session.query(Cookie.cookie_name, Cookie.quantity).order_by(Cookie.quantity)  # ascending\n",
    "\n",
    "# print([row for row in by_quantity])\n",
    "\n",
    "by_quantity_desc = session.query(Cookie.cookie_name, Cookie.quantity).order_by(desc(Cookie.quantity))  # descending\n",
    "\n",
    "# print([row for row in by_quantity_desc])\n"
   ]
  },
  {
   "cell_type": "code",
   "execution_count": 7,
   "metadata": {},
   "outputs": [],
   "source": [
    "# Limiting\n",
    "\n",
    "res = session.query(Cookie.cookie_name).limit(3)\n",
    "# print([r for r in res])"
   ]
  },
  {
   "cell_type": "code",
   "execution_count": 8,
   "metadata": {},
   "outputs": [],
   "source": [
    "# Applying SQL functions\n",
    "\n",
    "from sqlalchemy import func\n",
    "\n",
    "\n",
    "total_cookies = session.query(func.sum(Cookie.quantity))\n",
    "# print(total_cookies.scalar())\n",
    "\n",
    "\n",
    "res = session.query(func.count(Cookie.cookie_id))\n",
    "# print(res.scalar())\n"
   ]
  },
  {
   "cell_type": "code",
   "execution_count": 9,
   "metadata": {},
   "outputs": [
    {
     "name": "stdout",
     "output_type": "stream",
     "text": "5\n"
    }
   ],
   "source": [
    "# Labelling columns\n",
    "\n",
    "res = session.query(func.count(Cookie.cookie_name).label(\"total cookie types\"))\n",
    "print(res.scalar())"
   ]
  },
  {
   "cell_type": "code",
   "execution_count": 10,
   "metadata": {},
   "outputs": [],
   "source": [
    "# Filtering\n",
    "\n",
    "res = session.query(Cookie).filter(Cookie.cookie_name == \"chocolate chip\")\n",
    "# print(res.first())\n",
    "\n",
    "res = session.query(Cookie.cookie_receipe_url).filter(Cookie.cookie_id == 1)\n",
    "# print(res.first())\n",
    "\n",
    "res = session.query(Cookie.cookie_name).filter(Cookie.cookie_name.like(\"%Chocolate%\"))\n",
    "\n",
    "# print([r for r in res])\n",
    "\n",
    "\n",
    "## filter by\n",
    "\n",
    "res = session.query(Cookie).filter_by(cookie_name=\"chocolate chip\")\n",
    "# print([r for r in res])\n"
   ]
  },
  {
   "cell_type": "code",
   "execution_count": 11,
   "metadata": {},
   "outputs": [],
   "source": [
    "# Logical operators\n",
    "\n",
    "from sqlalchemy.sql import not_, or_, and_\n",
    "\n",
    "res = session.query(Cookie.cookie_name, Cookie.cookie_id).filter(not_(Cookie.cookie_name == \"chocolate chip\"))\n",
    "# print([r for r in res])\n",
    "\n",
    "res = session.query(Cookie.cookie_name).filter(or_(Cookie.unit_cost < 0.5, Cookie.quantity > 10))\n",
    "# print(*res)\n",
    "\n"
   ]
  },
  {
   "cell_type": "code",
   "execution_count": 12,
   "metadata": {},
   "outputs": [],
   "source": [
    "# Arithmetic operators\n",
    "\n",
    "res = session.query(Cookie.cookie_name, 'SKU-' + Cookie.cookie_sku).limit(3)\n",
    "# print(*res)\n",
    "\n",
    "res = session.query(Cookie.cookie_name, (Cookie.quantity > 0).label(\"in_stock\"))\n",
    "# print(*res)"
   ]
  },
  {
   "cell_type": "code",
   "execution_count": 13,
   "metadata": {},
   "outputs": [],
   "source": [
    "# Type casting\n",
    "\n",
    "from sqlalchemy.sql import cast\n",
    "\n",
    "res = session.query(Cookie.cookie_name, cast((Cookie.quantity * Cookie.unit_cost), Numeric(12, 2)).label('total_value'))\n",
    "# print(*res)"
   ]
  },
  {
   "cell_type": "code",
   "execution_count": 14,
   "metadata": {},
   "outputs": [
    {
     "data": {
      "text/plain": "1"
     },
     "execution_count": 14,
     "metadata": {},
     "output_type": "execute_result"
    }
   ],
   "source": [
    "# Updating data\n",
    "\n",
    "# method 1: query to create an instance, update an attribute then commit the session\n",
    "\n",
    "chocolate_chip = session.query(Cookie)\\\n",
    "                        .filter(Cookie.cookie_name == \"chocolate chip\")\\\n",
    "                        .first()\n",
    "chocolate_chip.quantity += 10\n",
    "session.commit()\n",
    "\n",
    "\n",
    "# method 2: update directly from the query\n",
    "\n",
    "session.query(Cookie)\\\n",
    "        .filter(Cookie.cookie_name == \"chocolate chip\")\\\n",
    "        .update({Cookie.quantity: Cookie.quantity - 20})"
   ]
  },
  {
   "cell_type": "code",
   "execution_count": 15,
   "metadata": {},
   "outputs": [
    {
     "data": {
      "text/plain": "1"
     },
     "execution_count": 15,
     "metadata": {},
     "output_type": "execute_result"
    }
   ],
   "source": [
    "# Deleting data\n",
    "\n",
    "# method 1: query to get a session-bound object, then update its attributes and commit the session\n",
    "\n",
    "plentiful_cookies = session.query(Cookie).filter(Cookie.quantity > 15).all()\n",
    "[session.delete(cookie) for cookie in plentiful_cookies]\n",
    "session.commit()\n",
    "\n",
    "# method 2: directly delete from the query\n",
    "\n",
    "session.query(Cookie).filter(Cookie.cookie_name == \"molasis\").delete()"
   ]
  },
  {
   "cell_type": "code",
   "execution_count": 16,
   "metadata": {},
   "outputs": [],
   "source": [
    "# loading data for joins\n",
    "\n",
    "# users\n",
    "\n",
    "cookiemon = User(username=\"cookiemon\",\n",
    "                 email_address=\"mon@cookie.com\",\n",
    "                 phone=\"111-111-1111\",\n",
    "                 password=\"password\")\n",
    "cakeater = User(username=\"cakeater\",\n",
    "                 email_address=\"cakeater@cakeater.com\",\n",
    "                 phone=\"222-222-2222\",\n",
    "                 password=\"password\")\n",
    "pieperson = User(username=\"pieperson\",\n",
    "                 email_address=\"pie@person.com\",\n",
    "                 phone=\"333-333-3333\",\n",
    "                 password=\"password\")\n",
    "\n",
    "session.add(cookiemon)\n",
    "session.add(cakeater)\n",
    "session.add(pieperson)\n",
    "session.commit()\n",
    "\n",
    "# orders\n",
    "order_1 = Order()\n",
    "order_1.user = cookiemon\n",
    "session.add(order_1)\n",
    "\n",
    "chocolate_chip = session.query(Cookie).filter(Cookie.cookie_name == \"chocolate chip\").first()\n",
    "peanut_butter = session.query(Cookie).filter(Cookie.cookie_name == \"peanut butter\").first()\n",
    "\n",
    "# line items\n",
    "line_item_1 = LineItem(\n",
    "    cookie=chocolate_chip,\n",
    "    quantity=2, \n",
    "    extended_cost=1.00,\n",
    "    order=order_1)\n",
    "order_1.line_items.append(line_item_1)  # can do this instead of\n",
    "\n",
    "line_item_2 = LineItem(\n",
    "    cookie=peanut_butter,\n",
    "    quantity=12,\n",
    "    order=order_1,\n",
    "    extended_cost=3.00)\n",
    "\n",
    "session.commit()\n",
    "\n",
    "# o1 = session.query(Order).filter(Order.user == cookiemon).first()\n",
    "# print(o1.line_items)\n",
    "\n",
    "order_2 = Order()\n",
    "order_2.user = cakeater\n",
    "\n",
    "chocolate_chip = session.query(Cookie).filter(Cookie.cookie_name == \"chocolate chip\").first()\n",
    "line_item_1 = LineItem(cookie=chocolate_chip, quantity=3, extended_cost=8)\n",
    "\n",
    "oat = session.query(Cookie).filter(Cookie.cookie_name.like(\"%oat%\")).first()\n",
    "line_item_2 = LineItem(cookie=oat, quantity=2, extended_cost=5)\n",
    "\n",
    "order_2.line_items.append(line_item_1)\n",
    "order_2.line_items.append(line_item_2)\n",
    "\n",
    "session.add(order_2)\n",
    "session.commit()\n",
    "\n",
    "# print(session.query(LineItem).all())  # line items were added too \n",
    "                "
   ]
  },
  {
   "cell_type": "code",
   "execution_count": 26,
   "metadata": {},
   "outputs": [
    {
     "name": "stdout",
     "output_type": "stream",
     "text": "('cakeater', 1) ('cookiemon', 1) ('pieperson', 0)\n"
    }
   ],
   "source": [
    "# Joins\n",
    "\n",
    "res = session.query(\n",
    "                        Order.order_id, User.username, User.phone,\n",
    "                        Cookie.cookie_name, LineItem.quantity, LineItem.extended_cost\n",
    "                    )\\\n",
    "             .join(User)\\\n",
    "             .join(LineItem)\\\n",
    "             .join(Cookie)\\\n",
    "             .filter(User.username == \"cookiemon\")\\\n",
    "             .all()\n",
    "# print(*res)\n",
    "\n",
    "\n",
    "res = session.query(User.username, func.count(Order.order_id))\\\n",
    "             .outerjoin(Order)\\\n",
    "             .group_by(User.username)\n",
    "print(*res)"
   ]
  },
  {
   "cell_type": "code",
   "execution_count": 37,
   "metadata": {},
   "outputs": [
    {
     "name": "stdout",
     "output_type": "stream",
     "text": "[(2, 2, '222-222-2222', 'chocolate chip', 3), (2, 2, '222-222-2222', 'oatmeal raisin', 2)]\n"
    }
   ],
   "source": [
    "# Chaining\n",
    "\n",
    "def get_orders_by_customer(cust_name):\n",
    "    res = session.query(Order.order_id, User.username, User.phone, Cookie.cookie_name, LineItem.quantity)\\\n",
    "                 .join(User).join(LineItem).join(Cookie)\\\n",
    "                 .filter(User.cust_name == cust_name)\\\n",
    "                 .all()\n",
    "    return res\n",
    "\n",
    "\n",
    "# [or]\n",
    "\n",
    "def get_orders_by_customer(cust_name, shipped=None, details=False):\n",
    "    q = session.query(Order.order_id, User.user_id, User.phone).join(User)\n",
    "    if details:\n",
    "        q = q.add_columns(Cookie.cookie_name, LineItem.quantity)\n",
    "        q = q.join(LineItem).join(Cookie)\n",
    "    if shipped is not None:\n",
    "        q = q.filter(Order.shipped == shipped)\n",
    "    res = q.filter(User.username == cust_name).all()\n",
    "    return res\n",
    "\n",
    "\n",
    "print(get_orders_by_customer(\"cakeater\", details=True, shipped=False))"
   ]
  },
  {
   "cell_type": "code",
   "execution_count": 42,
   "metadata": {},
   "outputs": [
    {
     "name": "stdout",
     "output_type": "stream",
     "text": "<Cookie: chocolate chip>\n"
    }
   ],
   "source": [
    "# Raw Queries\n",
    "\n",
    "from sqlalchemy import text\n",
    "\n",
    "q = session.query(Cookie).filter(text(\"cookies.cookie_name == 'chocolate chip'\"))\n",
    "print(*q)\n"
   ]
  },
  {
   "cell_type": "code",
   "execution_count": null,
   "metadata": {},
   "outputs": [],
   "source": []
  }
 ]
}