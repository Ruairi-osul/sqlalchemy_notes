{
 "nbformat": 4,
 "nbformat_minor": 2,
 "metadata": {
  "language_info": {
   "name": "python",
   "codemirror_mode": {
    "name": "ipython",
    "version": 3
   }
  },
  "orig_nbformat": 2,
  "file_extension": ".py",
  "mimetype": "text/x-python",
  "name": "python",
  "npconvert_exporter": "python",
  "pygments_lexer": "ipython3",
  "version": 3
 },
 "cells": [
  {
   "cell_type": "code",
   "execution_count": 1,
   "metadata": {},
   "outputs": [],
   "source": [
    "from sqlalchemy import create_engine, Column, ForeignKey\n",
    "from sqlalchemy.types import Integer, String, DateTime, Numeric, Boolean\n",
    "from sqlalchemy.orm import sessionmaker, relationship, backref\n",
    "from sqlalchemy.ext.declarative import declarative_base\n",
    "from datetime import datetime"
   ]
  },
  {
   "cell_type": "code",
   "execution_count": 2,
   "metadata": {},
   "outputs": [],
   "source": [
    "engine = create_engine(\"sqlite:///:memory:\")\n",
    "Session = sessionmaker(bind=engine)\n",
    "session = Session()\n",
    "Base = declarative_base()"
   ]
  },
  {
   "cell_type": "code",
   "execution_count": 3,
   "metadata": {},
   "outputs": [],
   "source": [
    "class Cookie(Base):\n",
    "    __tablename__ = \"cookies\"\n",
    "    \n",
    "    cookie_id = Column(Integer(), primary_key=True)\n",
    "    cookie_name = Column(String(100), nullable=False, unique=True, index=True)\n",
    "    quantity = Column(Integer(), default=0)\n",
    "    unit_cost = Column(Numeric(12, 2))\n",
    "\n",
    "    def __repr__(self):\n",
    "        return f\"<Cookie: {self.cookie_name}>\"\n",
    "\n",
    "\n",
    "class User(Base):\n",
    "    __tablename__ = \"users\"\n",
    "\n",
    "    user_id = Column(Integer(), primary_key=True)\n",
    "    username = Column(String(100), unique=True, nullable=False)\n",
    "    created_on = Column(DateTime(), default=datetime.now)\n",
    "    updated_on = Column(DateTime(), default=datetime.now, onupdate=datetime.now)\n",
    "\n",
    "    def __repr__(self):\n",
    "        return f\"<User: {self.username}>\"\n",
    "\n",
    "\n",
    "class Order(Base):\n",
    "    __tablename__ = \"orders\"\n",
    "\n",
    "    order_id = Column(Integer(), primary_key=True)\n",
    "    user_id = Column(Integer(), ForeignKey(\"users.user_id\"))\n",
    "    \n",
    "    user = relationship(\"User\", backref=backref(\"orders\"), order_by=order_id)\n",
    "\n",
    "\n",
    "class LineItem(Base):\n",
    "    __tablename__ = \"lineitems\"\n",
    "\n",
    "    line_item_id = Column(Integer(), primary_key=True)\n",
    "    cookie_id = Column(Integer(), ForeignKey(\"cookies.cookie_id\"))\n",
    "    order_id = Column(Integer(), ForeignKey(\"orders.order_id\"))\n",
    "    quantity = Column(Integer(), nullable=False)\n",
    "\n",
    "    order = relationship(\"Order\", backref=backref(\"line_items\"))\n",
    "    cookie = relationship(\"Cookie\", backref=backref(\"line_items\"))\n",
    "\n"
   ]
  },
  {
   "cell_type": "code",
   "execution_count": 4,
   "metadata": {},
   "outputs": [],
   "source": [
    "Base.metadata.create_all(bind=engine)"
   ]
  },
  {
   "cell_type": "code",
   "execution_count": 5,
   "metadata": {},
   "outputs": [],
   "source": [
    "chocolate_chip = Cookie(cookie_name=\"chocolate chip\",\n",
    "                        quantity=12,\n",
    "                        unit_cost=0.5)\n",
    "\n",
    "session.add(chocolate_chip)\n",
    "session.commit()"
   ]
  },
  {
   "cell_type": "code",
   "execution_count": null,
   "metadata": {},
   "outputs": [],
   "source": []
  }
 ]
}