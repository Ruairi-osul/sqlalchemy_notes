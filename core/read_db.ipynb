{
 "nbformat": 4,
 "nbformat_minor": 2,
 "metadata": {
  "language_info": {
   "name": "python",
   "codemirror_mode": {
    "name": "ipython",
    "version": 3
   }
  },
  "orig_nbformat": 2,
  "file_extension": ".py",
  "mimetype": "text/x-python",
  "name": "python",
  "npconvert_exporter": "python",
  "pygments_lexer": "ipython3",
  "version": 3
 },
 "cells": [
  {
   "cell_type": "code",
   "execution_count": 1,
   "metadata": {},
   "outputs": [],
   "source": [
    "from sqlalchemy import create_engine, MetaData, Table"
   ]
  },
  {
   "cell_type": "code",
   "execution_count": 9,
   "metadata": {},
   "outputs": [],
   "source": [
    "engine = create_engine(\"sqlite:///db_core.db\")\n",
    "metadata = MetaData()"
   ]
  },
  {
   "cell_type": "code",
   "execution_count": 10,
   "metadata": {},
   "outputs": [
    {
     "data": {
      "text/plain": "Table('users', MetaData(bind=None), Column('user_id', INTEGER(), table=<users>, primary_key=True, nullable=False), Column('username', VARCHAR(length=50), table=<users>, nullable=False), Column('email_address', VARCHAR(length=255), table=<users>, nullable=False), Column('phone', VARCHAR(length=20), table=<users>, nullable=False), Column('password', VARCHAR(length=25), table=<users>, nullable=False), Column('created_on', DATETIME(), table=<users>), Column('updated_on', DATETIME(), table=<users>), schema=None)"
     },
     "execution_count": 10,
     "metadata": {},
     "output_type": "execute_result"
    }
   ],
   "source": [
    "# bind one table - !!! foreign key relationships are lost !!!\n",
    "users = Table('users', metadata, autoload=True, autoload_with=engine)\n",
    "users"
   ]
  },
  {
   "cell_type": "code",
   "execution_count": 11,
   "metadata": {},
   "outputs": [],
   "source": [
    "# bind all tables\n",
    "\n",
    "metadata.reflect(bind=engine)"
   ]
  },
  {
   "cell_type": "code",
   "execution_count": 14,
   "metadata": {},
   "outputs": [
    {
     "name": "stdout",
     "output_type": "stream",
     "text": "dict_keys(['users', 'cookies', 'line_items', 'orders'])\n"
    }
   ],
   "source": [
    "print(metadata.tables.keys())\n",
    "users = metadata.tables['users']"
   ]
  },
  {
   "cell_type": "code",
   "execution_count": 16,
   "metadata": {},
   "outputs": [
    {
     "data": {
      "text/plain": "Table('users', MetaData(bind=None), Column('user_id', INTEGER(), table=<users>, primary_key=True, nullable=False), Column('username', VARCHAR(length=50), table=<users>, nullable=False), Column('email_address', VARCHAR(length=255), table=<users>, nullable=False), Column('phone', VARCHAR(length=20), table=<users>, nullable=False), Column('password', VARCHAR(length=25), table=<users>, nullable=False), Column('created_on', DATETIME(), table=<users>), Column('updated_on', DATETIME(), table=<users>), schema=None)"
     },
     "execution_count": 16,
     "metadata": {},
     "output_type": "execute_result"
    }
   ],
   "source": [
    "users"
   ]
  },
  {
   "cell_type": "code",
   "execution_count": null,
   "metadata": {},
   "outputs": [],
   "source": []
  }
 ]
}